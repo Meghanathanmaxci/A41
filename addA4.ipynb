{
 "cells": [
  {
   "cell_type": "markdown",
   "id": "b0cdb46f",
   "metadata": {},
   "source": [
    "# Wpp to create lambda function that adds 25 to a GIVEN NUMBER PASSED IN A ARGUMENT\n",
    "# Sample input = 10\n",
    "# expected output = 35"
   ]
  },
  {
   "cell_type": "code",
   "execution_count": 9,
   "id": "063cffd4",
   "metadata": {},
   "outputs": [
    {
     "data": {
      "text/plain": [
       "35"
      ]
     },
     "execution_count": 9,
     "metadata": {},
     "output_type": "execute_result"
    }
   ],
   "source": [
    "x = lambda x : x+25\n",
    "x(10)\n"
   ]
  },
  {
   "cell_type": "code",
   "execution_count": null,
   "id": "e0196153",
   "metadata": {},
   "outputs": [],
   "source": []
  }
 ],
 "metadata": {
  "kernelspec": {
   "display_name": "Python 3 (ipykernel)",
   "language": "python",
   "name": "python3"
  },
  "language_info": {
   "codemirror_mode": {
    "name": "ipython",
    "version": 3
   },
   "file_extension": ".py",
   "mimetype": "text/x-python",
   "name": "python",
   "nbconvert_exporter": "python",
   "pygments_lexer": "ipython3",
   "version": "3.10.0"
  }
 },
 "nbformat": 4,
 "nbformat_minor": 5
}
